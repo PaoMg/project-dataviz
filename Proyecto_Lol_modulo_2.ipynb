{
  "nbformat": 4,
  "nbformat_minor": 0,
  "metadata": {
    "colab": {
      "name": "Proyecto Lol - modulo 2",
      "provenance": [],
      "collapsed_sections": [],
      "toc_visible": true
    },
    "kernelspec": {
      "name": "python3",
      "display_name": "Python 3"
    }
  },
  "cells": [
    {
      "cell_type": "markdown",
      "metadata": {
        "id": "Ija5rQY6G98h"
      },
      "source": [
        "## **CONEXIÓN A DRIVE**"
      ]
    },
    {
      "cell_type": "code",
      "metadata": {
        "id": "lDl8EfHrGM7M"
      },
      "source": [
        "#para cargar archivos de mi computadora\n",
        "#from google.colab import files\n",
        "#uploaded = files.upload()"
      ],
      "execution_count": null,
      "outputs": []
    },
    {
      "cell_type": "code",
      "metadata": {
        "colab": {
          "base_uri": "https://localhost:8080/"
        },
        "id": "H9As2SV6Gohz",
        "outputId": "b24659c2-4cba-4a1c-e213-a07470206ee8"
      },
      "source": [
        "#para conectarse directamente al drive\n",
        "#me quiero conectar al drive porque existe un archivo .txt que contiene el apikey\n",
        "#dicho apikey se debe actualizar cada cierto tiempo, de acuerdo a lo que la pagina de riot games me indique\n",
        "from google.colab import drive\n",
        "drive.mount('/content/drive')"
      ],
      "execution_count": null,
      "outputs": [
        {
          "output_type": "stream",
          "text": [
            "Drive already mounted at /content/drive; to attempt to forcibly remount, call drive.mount(\"/content/drive\", force_remount=True).\n"
          ],
          "name": "stdout"
        }
      ]
    },
    {
      "cell_type": "markdown",
      "metadata": {
        "id": "i9ThSGmBGKyr"
      },
      "source": [
        "### **IMPORTAR LIBRERIAS**"
      ]
    },
    {
      "cell_type": "code",
      "metadata": {
        "id": "f-VefEjAGqzX"
      },
      "source": [
        "import requests\n",
        "import pandas as pd\n",
        "import json\n",
        "import time\n",
        "from datetime import datetime\n",
        "from timeit import timeit"
      ],
      "execution_count": null,
      "outputs": []
    },
    {
      "cell_type": "markdown",
      "metadata": {
        "id": "WuShbnAlHjBX"
      },
      "source": [
        "## **DEFINIR FUNCIONES**"
      ]
    },
    {
      "cell_type": "code",
      "metadata": {
        "id": "sa2hL1dVG7ok"
      },
      "source": [
        "#API_KEY FUNCTION: va a regresar el api key encriptado en el archivo .txt que esta en drive\n",
        "def api_key():\n",
        "    with open('/content/drive/MyDrive/1. IRONHACK/0. Proyecto modulo 2/apiKey.txt') as f:\n",
        "        contents = f.read()\n",
        "        api = f'?api_key={contents}'\n",
        "        return api"
      ],
      "execution_count": null,
      "outputs": []
    },
    {
      "cell_type": "code",
      "metadata": {
        "id": "sLqEh6cOKSeU"
      },
      "source": [
        "#SUMMONER FUNCTION: va a regresar a todos los summoners de las regiones divididos en sus respectivos tiers\n",
        "def summoner(api):\n",
        "    #empty list to append all the tables (aqui va a ser el compilado de toda la info)\n",
        "    main_df = list()\n",
        "\n",
        "    #lista con mi top 8 de regiones para los servidores\n",
        "    #eun1 = europa nordica y este\n",
        "    #kr1 = Corea del sur\n",
        "    #na1 = Norteamérica (consideran EUA y Canada)\n",
        "    #br1 = Brasil\n",
        "    #la1 = latinoamérica norte (incluido méxico)\n",
        "    #la2 = latinoamérica sur\n",
        "    #euw1 = europa oeste\n",
        "    #jp1 = japon\n",
        "    region_list = ['eun1','kr','na1','br1','la1','la2','euw1','jp1']\n",
        "\n",
        "    #defining a list with my 3 top tiers (categorías/ niveles)\n",
        "    tier_list = ['challengerleagues','grandmasterleagues','masterleagues']\n",
        "\n",
        "    #loop that will change the url so the 24 combinations are appended to the main_df list\n",
        "    for region in region_list:\n",
        "        for tier in tier_list:\n",
        "            url = f'https://{region}.api.riotgames.com/lol/league/v4/{tier}/by-queue/RANKED_SOLO_5x5{api}'\n",
        "            response_json = requests.get(url)\n",
        "            response = response_json.json()\n",
        "            #print(response)\n",
        "            response_df = pd.DataFrame(response)\n",
        "            #adding the column \"region\" (it will be necessary later)\n",
        "            response_df['region'] = region\n",
        "            #print(response_df)\n",
        "            main_df.append(response_df)\n",
        "            time.sleep(2)\n",
        "    summoner = pd.concat(main_df)\n",
        "    return summoner"
      ],
      "execution_count": null,
      "outputs": []
    },
    {
      "cell_type": "code",
      "metadata": {
        "id": "QZAvy2EjN__B"
      },
      "source": [
        "#CHAMPION AND SUMMONER FUNCTION: returns the first version of the summoners df with their champions\n",
        "def championAndSummoner(api,flat_summoners):\n",
        "    #empty list to append all the tables\n",
        "    main_df_1 = list()\n",
        "\n",
        "    #a for loop to consider all the summoners in the flat_summoners_ordered df\n",
        "    for i in range(len(flat_summoners)):\n",
        "        #Con el nuevo codigo, hay un total de 19,359 summoners de 8 regiones y 3 tiers\n",
        "        if i > 19413:\n",
        "            break\n",
        "        #we want the first value of the list given by the .at[i,region]    \n",
        "        region = flat_summoners.at[i, 'region'][0]\n",
        "        invocador = flat_summoners.at[i,'summonerId'][0]\n",
        "\n",
        "        url = f'https://{region}.api.riotgames.com/lol/champion-mastery/v4/champion-masteries/by-summoner/{invocador}{api}'\n",
        "        response_json = requests.get(url)\n",
        "        response = response_json.json()\n",
        "        response_df = pd.DataFrame(response)\n",
        "        main_df_1.append(response_df)\n",
        "        time.sleep(1)\n",
        "    champion_and_summoner = pd.concat(main_df_1)\n",
        "    return champion_and_summoner"
      ],
      "execution_count": null,
      "outputs": []
    },
    {
      "cell_type": "code",
      "metadata": {
        "id": "FZw4mXJbOypo"
      },
      "source": [
        "#CHAMPION AND SUMMONER FUNCTION: returns the first version of the summoners df with their champions\n",
        "def champions():\n",
        "    champs_json = requests.get('http://ddragon.leagueoflegends.com/cdn/10.23.1/data/en_US/champion.json')\n",
        "    champs = champs_json.json()\n",
        "    champs_df = pd.DataFrame(champs)\n",
        "    return champs_df"
      ],
      "execution_count": null,
      "outputs": []
    },
    {
      "cell_type": "code",
      "metadata": {
        "id": "bpg8YCCmO0gY"
      },
      "source": [
        "#CHANGE_INDEX FUNCTION: function that will change the index of pd\n",
        "def change_index(df):\n",
        "    index = df.shape[0]\n",
        "    index_final = [*range(0, index, 1)]\n",
        "    df = df.set_axis([index_final], axis='index')\n",
        "    return df"
      ],
      "execution_count": null,
      "outputs": []
    },
    {
      "cell_type": "code",
      "metadata": {
        "id": "8_XNMEbOO3Nn"
      },
      "source": [
        "#FLATTEN FUNCTION: will flatten my data (if a column has nested dictionaries)\n",
        "def flatten(table, column_list):\n",
        "    for column in column_list:\n",
        "        flattened = pd.DataFrame(dict(table[column])).transpose()\n",
        "        columns = [str(col) for col in flattened.columns]\n",
        "        flattened.columns = [column + '_' + column_name for column_name in columns]\n",
        "        table = pd.concat([table, flattened], axis=1)\n",
        "        table = table.drop(column, axis = 1)\n",
        "    return table"
      ],
      "execution_count": null,
      "outputs": []
    },
    {
      "cell_type": "code",
      "metadata": {
        "id": "7wNGN0YkO6ip"
      },
      "source": [
        "#MERGE FUNCTION: it will \"concat\" two tables according an specific value (this case championID)\n",
        "def merge(df1, df2):\n",
        "    df = df1.merge(df2,left_on='data_key', right_on='championId')\n",
        "    return df"
      ],
      "execution_count": null,
      "outputs": []
    },
    {
      "cell_type": "code",
      "metadata": {
        "id": "oeou9GYmPAdN"
      },
      "source": [
        "#CSV FUNCTION\n",
        "#dato: name tiene que terminar con .csv para que se guarde bien\n",
        "def convert_csv(df,name):\n",
        "    df.to_csv(name)"
      ],
      "execution_count": null,
      "outputs": []
    },
    {
      "cell_type": "markdown",
      "metadata": {
        "id": "AQSPPbYPPHxY"
      },
      "source": [
        "## **CLEANING FUNCTIONS**"
      ]
    },
    {
      "cell_type": "code",
      "metadata": {
        "id": "9QeDK5cJPDWX"
      },
      "source": [
        "#ORDER AND RENAME FUNCTION\n",
        "def order(df,lista):\n",
        "    #order columns and delete the ones I won't use\n",
        "    flat = df[(lista)]\n",
        "    return flat"
      ],
      "execution_count": null,
      "outputs": []
    },
    {
      "cell_type": "code",
      "metadata": {
        "id": "dppiulOQPMl0"
      },
      "source": [
        "def rename(df,dicc):\n",
        "    flat_ordered = df.rename(columns=dicc)\n",
        "    return flat_ordered"
      ],
      "execution_count": null,
      "outputs": []
    },
    {
      "cell_type": "markdown",
      "metadata": {
        "id": "ZbzMU7pnPQ0R"
      },
      "source": [
        "## **CÓDIGO - NESTED FUNCTIONS**\n",
        "SOLO PARA SACAR SUMMONERS"
      ]
    },
    {
      "cell_type": "code",
      "metadata": {
        "id": "BugLUgMzPOoo"
      },
      "source": [
        "#mando llamar a mi api_key\n",
        "api = api_key()"
      ],
      "execution_count": null,
      "outputs": []
    },
    {
      "cell_type": "code",
      "metadata": {
        "colab": {
          "base_uri": "https://localhost:8080/"
        },
        "id": "-S1X9jyxPmtL",
        "outputId": "652d7c36-1b98-4d48-a458-5a09f2262892"
      },
      "source": [
        "\n",
        "#tiempo que se tarda con las 8 regiones, y los 3 tiers (tiempo con 24 combinaciones)\n",
        "start = time.time()\n",
        "\n",
        "#mando llamar a mi función summoner, va a usar el apikey para conectar con la api de riot games\n",
        "#esta función me va a crear un df con todos los summoners de mis 8 regiones con su respectivo tier\n",
        "summoner_df = summoner(api)\n",
        "\n",
        "#tiempo = 71.5 segundos = 1 min 18 segundos\n",
        "end = time.time()\n",
        "print (end - start)"
      ],
      "execution_count": null,
      "outputs": [
        {
          "output_type": "stream",
          "text": [
            "64.7688581943512\n"
          ],
          "name": "stdout"
        }
      ]
    },
    {
      "cell_type": "code",
      "metadata": {
        "colab": {
          "base_uri": "https://localhost:8080/",
          "height": 406
        },
        "id": "KIX8f4tJTt0D",
        "outputId": "2f0bab42-a4a4-44f1-d93a-a05fb4e82f46"
      },
      "source": [
        "summoner_df"
      ],
      "execution_count": null,
      "outputs": [
        {
          "output_type": "execute_result",
          "data": {
            "text/html": [
              "<div>\n",
              "<style scoped>\n",
              "    .dataframe tbody tr th:only-of-type {\n",
              "        vertical-align: middle;\n",
              "    }\n",
              "\n",
              "    .dataframe tbody tr th {\n",
              "        vertical-align: top;\n",
              "    }\n",
              "\n",
              "    .dataframe thead th {\n",
              "        text-align: right;\n",
              "    }\n",
              "</style>\n",
              "<table border=\"1\" class=\"dataframe\">\n",
              "  <thead>\n",
              "    <tr style=\"text-align: right;\">\n",
              "      <th></th>\n",
              "      <th>tier</th>\n",
              "      <th>leagueId</th>\n",
              "      <th>queue</th>\n",
              "      <th>name</th>\n",
              "      <th>entries</th>\n",
              "      <th>region</th>\n",
              "    </tr>\n",
              "  </thead>\n",
              "  <tbody>\n",
              "    <tr>\n",
              "      <th>0</th>\n",
              "      <td>CHALLENGER</td>\n",
              "      <td>0ef324f6-1ba0-3357-829e-4793b7be8601</td>\n",
              "      <td>RANKED_SOLO_5x5</td>\n",
              "      <td>Renekton's Maulers</td>\n",
              "      <td>{'summonerId': 'l-3F5SK60iy8xRpZhJ1lT7d7EfZKod...</td>\n",
              "      <td>eun1</td>\n",
              "    </tr>\n",
              "    <tr>\n",
              "      <th>1</th>\n",
              "      <td>CHALLENGER</td>\n",
              "      <td>0ef324f6-1ba0-3357-829e-4793b7be8601</td>\n",
              "      <td>RANKED_SOLO_5x5</td>\n",
              "      <td>Renekton's Maulers</td>\n",
              "      <td>{'summonerId': 'OSB7m-MIa4StpbtrV9bIknv6ZA807a...</td>\n",
              "      <td>eun1</td>\n",
              "    </tr>\n",
              "    <tr>\n",
              "      <th>2</th>\n",
              "      <td>CHALLENGER</td>\n",
              "      <td>0ef324f6-1ba0-3357-829e-4793b7be8601</td>\n",
              "      <td>RANKED_SOLO_5x5</td>\n",
              "      <td>Renekton's Maulers</td>\n",
              "      <td>{'summonerId': 'JLSQdP8n1I2BjP-m1SjV9u2rCQ3Aii...</td>\n",
              "      <td>eun1</td>\n",
              "    </tr>\n",
              "    <tr>\n",
              "      <th>3</th>\n",
              "      <td>CHALLENGER</td>\n",
              "      <td>0ef324f6-1ba0-3357-829e-4793b7be8601</td>\n",
              "      <td>RANKED_SOLO_5x5</td>\n",
              "      <td>Renekton's Maulers</td>\n",
              "      <td>{'summonerId': 'VJhQYtSWX-xO60S9OFNJwl30hPog66...</td>\n",
              "      <td>eun1</td>\n",
              "    </tr>\n",
              "    <tr>\n",
              "      <th>4</th>\n",
              "      <td>CHALLENGER</td>\n",
              "      <td>0ef324f6-1ba0-3357-829e-4793b7be8601</td>\n",
              "      <td>RANKED_SOLO_5x5</td>\n",
              "      <td>Renekton's Maulers</td>\n",
              "      <td>{'summonerId': 'sNOhR8ivResBD5KLOopFZCwyjHXkYy...</td>\n",
              "      <td>eun1</td>\n",
              "    </tr>\n",
              "    <tr>\n",
              "      <th>...</th>\n",
              "      <td>...</td>\n",
              "      <td>...</td>\n",
              "      <td>...</td>\n",
              "      <td>...</td>\n",
              "      <td>...</td>\n",
              "      <td>...</td>\n",
              "    </tr>\n",
              "    <tr>\n",
              "      <th>16</th>\n",
              "      <td>MASTER</td>\n",
              "      <td>caca6dce-d036-3bd3-a7e2-1261d1f9deb1</td>\n",
              "      <td>RANKED_SOLO_5x5</td>\n",
              "      <td>Janna's Defiants</td>\n",
              "      <td>{'summonerId': 'gq5_1zY1SupXZEp1AYYOtKqD3Dekyz...</td>\n",
              "      <td>jp1</td>\n",
              "    </tr>\n",
              "    <tr>\n",
              "      <th>17</th>\n",
              "      <td>MASTER</td>\n",
              "      <td>caca6dce-d036-3bd3-a7e2-1261d1f9deb1</td>\n",
              "      <td>RANKED_SOLO_5x5</td>\n",
              "      <td>Janna's Defiants</td>\n",
              "      <td>{'summonerId': 'FoYRUtI9MaRBup3iC7hvxuebMnnLna...</td>\n",
              "      <td>jp1</td>\n",
              "    </tr>\n",
              "    <tr>\n",
              "      <th>18</th>\n",
              "      <td>MASTER</td>\n",
              "      <td>caca6dce-d036-3bd3-a7e2-1261d1f9deb1</td>\n",
              "      <td>RANKED_SOLO_5x5</td>\n",
              "      <td>Janna's Defiants</td>\n",
              "      <td>{'summonerId': 'LB033dyeQEbgQ5Ch-b6uDg1KlaaLDX...</td>\n",
              "      <td>jp1</td>\n",
              "    </tr>\n",
              "    <tr>\n",
              "      <th>19</th>\n",
              "      <td>MASTER</td>\n",
              "      <td>caca6dce-d036-3bd3-a7e2-1261d1f9deb1</td>\n",
              "      <td>RANKED_SOLO_5x5</td>\n",
              "      <td>Janna's Defiants</td>\n",
              "      <td>{'summonerId': 'hoMVmajIV0VxoF7ak9oe2iM7jjIYXe...</td>\n",
              "      <td>jp1</td>\n",
              "    </tr>\n",
              "    <tr>\n",
              "      <th>20</th>\n",
              "      <td>MASTER</td>\n",
              "      <td>caca6dce-d036-3bd3-a7e2-1261d1f9deb1</td>\n",
              "      <td>RANKED_SOLO_5x5</td>\n",
              "      <td>Janna's Defiants</td>\n",
              "      <td>{'summonerId': '2Ciyi22Lhnw2lnDLI-k0ewP_lCyzLR...</td>\n",
              "      <td>jp1</td>\n",
              "    </tr>\n",
              "  </tbody>\n",
              "</table>\n",
              "<p>19413 rows × 6 columns</p>\n",
              "</div>"
            ],
            "text/plain": [
              "          tier  ... region\n",
              "0   CHALLENGER  ...   eun1\n",
              "1   CHALLENGER  ...   eun1\n",
              "2   CHALLENGER  ...   eun1\n",
              "3   CHALLENGER  ...   eun1\n",
              "4   CHALLENGER  ...   eun1\n",
              "..         ...  ...    ...\n",
              "16      MASTER  ...    jp1\n",
              "17      MASTER  ...    jp1\n",
              "18      MASTER  ...    jp1\n",
              "19      MASTER  ...    jp1\n",
              "20      MASTER  ...    jp1\n",
              "\n",
              "[19413 rows x 6 columns]"
            ]
          },
          "metadata": {
            "tags": []
          },
          "execution_count": 33
        }
      ]
    },
    {
      "cell_type": "code",
      "metadata": {
        "colab": {
          "base_uri": "https://localhost:8080/",
          "height": 406
        },
        "id": "RDWT2yVFP4FD",
        "outputId": "26d9e68d-904e-4548-d840-972537a545dd"
      },
      "source": [
        "#mando llamar la función change_index para cambiar los index de mi df\n",
        "summoner_df = change_index(summoner_df)\n",
        "summoner_df"
      ],
      "execution_count": null,
      "outputs": [
        {
          "output_type": "execute_result",
          "data": {
            "text/html": [
              "<div>\n",
              "<style scoped>\n",
              "    .dataframe tbody tr th:only-of-type {\n",
              "        vertical-align: middle;\n",
              "    }\n",
              "\n",
              "    .dataframe tbody tr th {\n",
              "        vertical-align: top;\n",
              "    }\n",
              "\n",
              "    .dataframe thead th {\n",
              "        text-align: right;\n",
              "    }\n",
              "</style>\n",
              "<table border=\"1\" class=\"dataframe\">\n",
              "  <thead>\n",
              "    <tr style=\"text-align: right;\">\n",
              "      <th></th>\n",
              "      <th>tier</th>\n",
              "      <th>leagueId</th>\n",
              "      <th>queue</th>\n",
              "      <th>name</th>\n",
              "      <th>entries</th>\n",
              "      <th>region</th>\n",
              "    </tr>\n",
              "  </thead>\n",
              "  <tbody>\n",
              "    <tr>\n",
              "      <th>0</th>\n",
              "      <td>CHALLENGER</td>\n",
              "      <td>0ef324f6-1ba0-3357-829e-4793b7be8601</td>\n",
              "      <td>RANKED_SOLO_5x5</td>\n",
              "      <td>Renekton's Maulers</td>\n",
              "      <td>{'summonerId': 'l-3F5SK60iy8xRpZhJ1lT7d7EfZKod...</td>\n",
              "      <td>eun1</td>\n",
              "    </tr>\n",
              "    <tr>\n",
              "      <th>1</th>\n",
              "      <td>CHALLENGER</td>\n",
              "      <td>0ef324f6-1ba0-3357-829e-4793b7be8601</td>\n",
              "      <td>RANKED_SOLO_5x5</td>\n",
              "      <td>Renekton's Maulers</td>\n",
              "      <td>{'summonerId': 'OSB7m-MIa4StpbtrV9bIknv6ZA807a...</td>\n",
              "      <td>eun1</td>\n",
              "    </tr>\n",
              "    <tr>\n",
              "      <th>2</th>\n",
              "      <td>CHALLENGER</td>\n",
              "      <td>0ef324f6-1ba0-3357-829e-4793b7be8601</td>\n",
              "      <td>RANKED_SOLO_5x5</td>\n",
              "      <td>Renekton's Maulers</td>\n",
              "      <td>{'summonerId': 'JLSQdP8n1I2BjP-m1SjV9u2rCQ3Aii...</td>\n",
              "      <td>eun1</td>\n",
              "    </tr>\n",
              "    <tr>\n",
              "      <th>3</th>\n",
              "      <td>CHALLENGER</td>\n",
              "      <td>0ef324f6-1ba0-3357-829e-4793b7be8601</td>\n",
              "      <td>RANKED_SOLO_5x5</td>\n",
              "      <td>Renekton's Maulers</td>\n",
              "      <td>{'summonerId': 'VJhQYtSWX-xO60S9OFNJwl30hPog66...</td>\n",
              "      <td>eun1</td>\n",
              "    </tr>\n",
              "    <tr>\n",
              "      <th>4</th>\n",
              "      <td>CHALLENGER</td>\n",
              "      <td>0ef324f6-1ba0-3357-829e-4793b7be8601</td>\n",
              "      <td>RANKED_SOLO_5x5</td>\n",
              "      <td>Renekton's Maulers</td>\n",
              "      <td>{'summonerId': 'sNOhR8ivResBD5KLOopFZCwyjHXkYy...</td>\n",
              "      <td>eun1</td>\n",
              "    </tr>\n",
              "    <tr>\n",
              "      <th>...</th>\n",
              "      <td>...</td>\n",
              "      <td>...</td>\n",
              "      <td>...</td>\n",
              "      <td>...</td>\n",
              "      <td>...</td>\n",
              "      <td>...</td>\n",
              "    </tr>\n",
              "    <tr>\n",
              "      <th>19408</th>\n",
              "      <td>MASTER</td>\n",
              "      <td>caca6dce-d036-3bd3-a7e2-1261d1f9deb1</td>\n",
              "      <td>RANKED_SOLO_5x5</td>\n",
              "      <td>Janna's Defiants</td>\n",
              "      <td>{'summonerId': 'gq5_1zY1SupXZEp1AYYOtKqD3Dekyz...</td>\n",
              "      <td>jp1</td>\n",
              "    </tr>\n",
              "    <tr>\n",
              "      <th>19409</th>\n",
              "      <td>MASTER</td>\n",
              "      <td>caca6dce-d036-3bd3-a7e2-1261d1f9deb1</td>\n",
              "      <td>RANKED_SOLO_5x5</td>\n",
              "      <td>Janna's Defiants</td>\n",
              "      <td>{'summonerId': 'FoYRUtI9MaRBup3iC7hvxuebMnnLna...</td>\n",
              "      <td>jp1</td>\n",
              "    </tr>\n",
              "    <tr>\n",
              "      <th>19410</th>\n",
              "      <td>MASTER</td>\n",
              "      <td>caca6dce-d036-3bd3-a7e2-1261d1f9deb1</td>\n",
              "      <td>RANKED_SOLO_5x5</td>\n",
              "      <td>Janna's Defiants</td>\n",
              "      <td>{'summonerId': 'LB033dyeQEbgQ5Ch-b6uDg1KlaaLDX...</td>\n",
              "      <td>jp1</td>\n",
              "    </tr>\n",
              "    <tr>\n",
              "      <th>19411</th>\n",
              "      <td>MASTER</td>\n",
              "      <td>caca6dce-d036-3bd3-a7e2-1261d1f9deb1</td>\n",
              "      <td>RANKED_SOLO_5x5</td>\n",
              "      <td>Janna's Defiants</td>\n",
              "      <td>{'summonerId': 'hoMVmajIV0VxoF7ak9oe2iM7jjIYXe...</td>\n",
              "      <td>jp1</td>\n",
              "    </tr>\n",
              "    <tr>\n",
              "      <th>19412</th>\n",
              "      <td>MASTER</td>\n",
              "      <td>caca6dce-d036-3bd3-a7e2-1261d1f9deb1</td>\n",
              "      <td>RANKED_SOLO_5x5</td>\n",
              "      <td>Janna's Defiants</td>\n",
              "      <td>{'summonerId': '2Ciyi22Lhnw2lnDLI-k0ewP_lCyzLR...</td>\n",
              "      <td>jp1</td>\n",
              "    </tr>\n",
              "  </tbody>\n",
              "</table>\n",
              "<p>19413 rows × 6 columns</p>\n",
              "</div>"
            ],
            "text/plain": [
              "             tier  ... region\n",
              "0      CHALLENGER  ...   eun1\n",
              "1      CHALLENGER  ...   eun1\n",
              "2      CHALLENGER  ...   eun1\n",
              "3      CHALLENGER  ...   eun1\n",
              "4      CHALLENGER  ...   eun1\n",
              "...           ...  ...    ...\n",
              "19408      MASTER  ...    jp1\n",
              "19409      MASTER  ...    jp1\n",
              "19410      MASTER  ...    jp1\n",
              "19411      MASTER  ...    jp1\n",
              "19412      MASTER  ...    jp1\n",
              "\n",
              "[19413 rows x 6 columns]"
            ]
          },
          "metadata": {
            "tags": []
          },
          "execution_count": 35
        }
      ]
    },
    {
      "cell_type": "code",
      "metadata": {
        "colab": {
          "base_uri": "https://localhost:8080/",
          "height": 467
        },
        "id": "NdCa-FxCQara",
        "outputId": "058a49c4-7a4c-4275-b431-a3bd9347d0a0"
      },
      "source": [
        "#la columna entries tiene un \"nested dictionary\", necesito abrirlo para obtener el summonerId\n",
        "#defino la columna que necesito \"abrir\"\n",
        "nested_column = ['entries']\n",
        "\n",
        "#mando llamar mi función dandole como argumentos el df y la columna\n",
        "flat_summoners = flatten(summoner_df, nested_column)\n",
        "flat_summoners.head()"
      ],
      "execution_count": null,
      "outputs": [
        {
          "output_type": "execute_result",
          "data": {
            "text/html": [
              "<div>\n",
              "<style scoped>\n",
              "    .dataframe tbody tr th:only-of-type {\n",
              "        vertical-align: middle;\n",
              "    }\n",
              "\n",
              "    .dataframe tbody tr th {\n",
              "        vertical-align: top;\n",
              "    }\n",
              "\n",
              "    .dataframe thead th {\n",
              "        text-align: right;\n",
              "    }\n",
              "</style>\n",
              "<table border=\"1\" class=\"dataframe\">\n",
              "  <thead>\n",
              "    <tr style=\"text-align: right;\">\n",
              "      <th></th>\n",
              "      <th>tier</th>\n",
              "      <th>leagueId</th>\n",
              "      <th>queue</th>\n",
              "      <th>name</th>\n",
              "      <th>region</th>\n",
              "      <th>entries_summonerId</th>\n",
              "      <th>entries_summonerName</th>\n",
              "      <th>entries_leaguePoints</th>\n",
              "      <th>entries_rank</th>\n",
              "      <th>entries_wins</th>\n",
              "      <th>entries_losses</th>\n",
              "      <th>entries_veteran</th>\n",
              "      <th>entries_inactive</th>\n",
              "      <th>entries_freshBlood</th>\n",
              "      <th>entries_hotStreak</th>\n",
              "    </tr>\n",
              "  </thead>\n",
              "  <tbody>\n",
              "    <tr>\n",
              "      <th>0</th>\n",
              "      <td>CHALLENGER</td>\n",
              "      <td>0ef324f6-1ba0-3357-829e-4793b7be8601</td>\n",
              "      <td>RANKED_SOLO_5x5</td>\n",
              "      <td>Renekton's Maulers</td>\n",
              "      <td>eun1</td>\n",
              "      <td>l-3F5SK60iy8xRpZhJ1lT7d7EfZKodz-6iU1DRkbIwSPl3U</td>\n",
              "      <td>R4 Coatpustmain</td>\n",
              "      <td>791</td>\n",
              "      <td>I</td>\n",
              "      <td>269</td>\n",
              "      <td>232</td>\n",
              "      <td>True</td>\n",
              "      <td>False</td>\n",
              "      <td>False</td>\n",
              "      <td>False</td>\n",
              "    </tr>\n",
              "    <tr>\n",
              "      <th>1</th>\n",
              "      <td>CHALLENGER</td>\n",
              "      <td>0ef324f6-1ba0-3357-829e-4793b7be8601</td>\n",
              "      <td>RANKED_SOLO_5x5</td>\n",
              "      <td>Renekton's Maulers</td>\n",
              "      <td>eun1</td>\n",
              "      <td>OSB7m-MIa4StpbtrV9bIknv6ZA807aQDAT45OmpO9iJGsxc</td>\n",
              "      <td>Kizuro</td>\n",
              "      <td>728</td>\n",
              "      <td>I</td>\n",
              "      <td>153</td>\n",
              "      <td>108</td>\n",
              "      <td>False</td>\n",
              "      <td>False</td>\n",
              "      <td>False</td>\n",
              "      <td>True</td>\n",
              "    </tr>\n",
              "    <tr>\n",
              "      <th>2</th>\n",
              "      <td>CHALLENGER</td>\n",
              "      <td>0ef324f6-1ba0-3357-829e-4793b7be8601</td>\n",
              "      <td>RANKED_SOLO_5x5</td>\n",
              "      <td>Renekton's Maulers</td>\n",
              "      <td>eun1</td>\n",
              "      <td>JLSQdP8n1I2BjP-m1SjV9u2rCQ3Aii9OSKAif0v9RmEQ5_c</td>\n",
              "      <td>Mezram</td>\n",
              "      <td>553</td>\n",
              "      <td>I</td>\n",
              "      <td>228</td>\n",
              "      <td>133</td>\n",
              "      <td>False</td>\n",
              "      <td>False</td>\n",
              "      <td>False</td>\n",
              "      <td>False</td>\n",
              "    </tr>\n",
              "    <tr>\n",
              "      <th>3</th>\n",
              "      <td>CHALLENGER</td>\n",
              "      <td>0ef324f6-1ba0-3357-829e-4793b7be8601</td>\n",
              "      <td>RANKED_SOLO_5x5</td>\n",
              "      <td>Renekton's Maulers</td>\n",
              "      <td>eun1</td>\n",
              "      <td>VJhQYtSWX-xO60S9OFNJwl30hPog66s2cSLvnNNi3xbJ6ng</td>\n",
              "      <td>F1ko</td>\n",
              "      <td>532</td>\n",
              "      <td>I</td>\n",
              "      <td>135</td>\n",
              "      <td>101</td>\n",
              "      <td>False</td>\n",
              "      <td>False</td>\n",
              "      <td>False</td>\n",
              "      <td>False</td>\n",
              "    </tr>\n",
              "    <tr>\n",
              "      <th>4</th>\n",
              "      <td>CHALLENGER</td>\n",
              "      <td>0ef324f6-1ba0-3357-829e-4793b7be8601</td>\n",
              "      <td>RANKED_SOLO_5x5</td>\n",
              "      <td>Renekton's Maulers</td>\n",
              "      <td>eun1</td>\n",
              "      <td>sNOhR8ivResBD5KLOopFZCwyjHXkYycLOdiqKxewSC9MaGU</td>\n",
              "      <td>Anshej</td>\n",
              "      <td>622</td>\n",
              "      <td>I</td>\n",
              "      <td>481</td>\n",
              "      <td>443</td>\n",
              "      <td>False</td>\n",
              "      <td>False</td>\n",
              "      <td>False</td>\n",
              "      <td>True</td>\n",
              "    </tr>\n",
              "  </tbody>\n",
              "</table>\n",
              "</div>"
            ],
            "text/plain": [
              "         tier  ... entries_hotStreak\n",
              "0  CHALLENGER  ...             False\n",
              "1  CHALLENGER  ...              True\n",
              "2  CHALLENGER  ...             False\n",
              "3  CHALLENGER  ...             False\n",
              "4  CHALLENGER  ...              True\n",
              "\n",
              "[5 rows x 15 columns]"
            ]
          },
          "metadata": {
            "tags": []
          },
          "execution_count": 36
        }
      ]
    },
    {
      "cell_type": "code",
      "metadata": {
        "colab": {
          "base_uri": "https://localhost:8080/",
          "height": 467
        },
        "id": "utDN5P2sQt7h",
        "outputId": "f599c928-9a16-4f7f-aba1-962897d9c0ed"
      },
      "source": [
        "#creo una lista de las columnas que quiero que aparezcan en mi df final, para acomodarlas en ese orden\n",
        "lista = ['entries_summonerId','entries_summonerName','region','tier',\n",
        "                'entries_wins','entries_losses','leagueId','name','entries_leaguePoints']\n",
        "\n",
        "flat_summoners = order(flat_summoners, lista)\n",
        "flat_summoners.head()"
      ],
      "execution_count": null,
      "outputs": [
        {
          "output_type": "execute_result",
          "data": {
            "text/html": [
              "<div>\n",
              "<style scoped>\n",
              "    .dataframe tbody tr th:only-of-type {\n",
              "        vertical-align: middle;\n",
              "    }\n",
              "\n",
              "    .dataframe tbody tr th {\n",
              "        vertical-align: top;\n",
              "    }\n",
              "\n",
              "    .dataframe thead th {\n",
              "        text-align: right;\n",
              "    }\n",
              "</style>\n",
              "<table border=\"1\" class=\"dataframe\">\n",
              "  <thead>\n",
              "    <tr style=\"text-align: right;\">\n",
              "      <th></th>\n",
              "      <th>entries_summonerId</th>\n",
              "      <th>entries_summonerName</th>\n",
              "      <th>region</th>\n",
              "      <th>tier</th>\n",
              "      <th>entries_wins</th>\n",
              "      <th>entries_losses</th>\n",
              "      <th>leagueId</th>\n",
              "      <th>name</th>\n",
              "      <th>entries_leaguePoints</th>\n",
              "    </tr>\n",
              "  </thead>\n",
              "  <tbody>\n",
              "    <tr>\n",
              "      <th>0</th>\n",
              "      <td>l-3F5SK60iy8xRpZhJ1lT7d7EfZKodz-6iU1DRkbIwSPl3U</td>\n",
              "      <td>R4 Coatpustmain</td>\n",
              "      <td>eun1</td>\n",
              "      <td>CHALLENGER</td>\n",
              "      <td>269</td>\n",
              "      <td>232</td>\n",
              "      <td>0ef324f6-1ba0-3357-829e-4793b7be8601</td>\n",
              "      <td>Renekton's Maulers</td>\n",
              "      <td>791</td>\n",
              "    </tr>\n",
              "    <tr>\n",
              "      <th>1</th>\n",
              "      <td>OSB7m-MIa4StpbtrV9bIknv6ZA807aQDAT45OmpO9iJGsxc</td>\n",
              "      <td>Kizuro</td>\n",
              "      <td>eun1</td>\n",
              "      <td>CHALLENGER</td>\n",
              "      <td>153</td>\n",
              "      <td>108</td>\n",
              "      <td>0ef324f6-1ba0-3357-829e-4793b7be8601</td>\n",
              "      <td>Renekton's Maulers</td>\n",
              "      <td>728</td>\n",
              "    </tr>\n",
              "    <tr>\n",
              "      <th>2</th>\n",
              "      <td>JLSQdP8n1I2BjP-m1SjV9u2rCQ3Aii9OSKAif0v9RmEQ5_c</td>\n",
              "      <td>Mezram</td>\n",
              "      <td>eun1</td>\n",
              "      <td>CHALLENGER</td>\n",
              "      <td>228</td>\n",
              "      <td>133</td>\n",
              "      <td>0ef324f6-1ba0-3357-829e-4793b7be8601</td>\n",
              "      <td>Renekton's Maulers</td>\n",
              "      <td>553</td>\n",
              "    </tr>\n",
              "    <tr>\n",
              "      <th>3</th>\n",
              "      <td>VJhQYtSWX-xO60S9OFNJwl30hPog66s2cSLvnNNi3xbJ6ng</td>\n",
              "      <td>F1ko</td>\n",
              "      <td>eun1</td>\n",
              "      <td>CHALLENGER</td>\n",
              "      <td>135</td>\n",
              "      <td>101</td>\n",
              "      <td>0ef324f6-1ba0-3357-829e-4793b7be8601</td>\n",
              "      <td>Renekton's Maulers</td>\n",
              "      <td>532</td>\n",
              "    </tr>\n",
              "    <tr>\n",
              "      <th>4</th>\n",
              "      <td>sNOhR8ivResBD5KLOopFZCwyjHXkYycLOdiqKxewSC9MaGU</td>\n",
              "      <td>Anshej</td>\n",
              "      <td>eun1</td>\n",
              "      <td>CHALLENGER</td>\n",
              "      <td>481</td>\n",
              "      <td>443</td>\n",
              "      <td>0ef324f6-1ba0-3357-829e-4793b7be8601</td>\n",
              "      <td>Renekton's Maulers</td>\n",
              "      <td>622</td>\n",
              "    </tr>\n",
              "  </tbody>\n",
              "</table>\n",
              "</div>"
            ],
            "text/plain": [
              "                                entries_summonerId  ... entries_leaguePoints\n",
              "0  l-3F5SK60iy8xRpZhJ1lT7d7EfZKodz-6iU1DRkbIwSPl3U  ...                  791\n",
              "1  OSB7m-MIa4StpbtrV9bIknv6ZA807aQDAT45OmpO9iJGsxc  ...                  728\n",
              "2  JLSQdP8n1I2BjP-m1SjV9u2rCQ3Aii9OSKAif0v9RmEQ5_c  ...                  553\n",
              "3  VJhQYtSWX-xO60S9OFNJwl30hPog66s2cSLvnNNi3xbJ6ng  ...                  532\n",
              "4  sNOhR8ivResBD5KLOopFZCwyjHXkYycLOdiqKxewSC9MaGU  ...                  622\n",
              "\n",
              "[5 rows x 9 columns]"
            ]
          },
          "metadata": {
            "tags": []
          },
          "execution_count": 37
        }
      ]
    },
    {
      "cell_type": "code",
      "metadata": {
        "colab": {
          "base_uri": "https://localhost:8080/",
          "height": 364
        },
        "id": "OWP8qW27Uw0Y",
        "outputId": "5ab88ba4-47f6-428b-ab6a-f5439c6dd949"
      },
      "source": [
        "#creo un diccionario para cambiar el nombre de mis columnas con la función rename\n",
        "this_dict ={'entries_summonerId':'summonerId','entries_summonerName':'summonerName', \n",
        "            'entries_leaguePoints':'leaguePoints',\n",
        "            'entries_wins':'wins','entries_losses':'losses','name':'leagueName'}\n",
        "\n",
        "flat_summoners = rename(flat_summoners, this_dict)\n",
        "flat_summoners.head()"
      ],
      "execution_count": null,
      "outputs": [
        {
          "output_type": "execute_result",
          "data": {
            "text/html": [
              "<div>\n",
              "<style scoped>\n",
              "    .dataframe tbody tr th:only-of-type {\n",
              "        vertical-align: middle;\n",
              "    }\n",
              "\n",
              "    .dataframe tbody tr th {\n",
              "        vertical-align: top;\n",
              "    }\n",
              "\n",
              "    .dataframe thead th {\n",
              "        text-align: right;\n",
              "    }\n",
              "</style>\n",
              "<table border=\"1\" class=\"dataframe\">\n",
              "  <thead>\n",
              "    <tr style=\"text-align: right;\">\n",
              "      <th></th>\n",
              "      <th>summonerId</th>\n",
              "      <th>summonerName</th>\n",
              "      <th>region</th>\n",
              "      <th>tier</th>\n",
              "      <th>wins</th>\n",
              "      <th>losses</th>\n",
              "      <th>leagueId</th>\n",
              "      <th>leagueName</th>\n",
              "      <th>leaguePoints</th>\n",
              "    </tr>\n",
              "  </thead>\n",
              "  <tbody>\n",
              "    <tr>\n",
              "      <th>0</th>\n",
              "      <td>l-3F5SK60iy8xRpZhJ1lT7d7EfZKodz-6iU1DRkbIwSPl3U</td>\n",
              "      <td>R4 Coatpustmain</td>\n",
              "      <td>eun1</td>\n",
              "      <td>CHALLENGER</td>\n",
              "      <td>269</td>\n",
              "      <td>232</td>\n",
              "      <td>0ef324f6-1ba0-3357-829e-4793b7be8601</td>\n",
              "      <td>Renekton's Maulers</td>\n",
              "      <td>791</td>\n",
              "    </tr>\n",
              "    <tr>\n",
              "      <th>1</th>\n",
              "      <td>OSB7m-MIa4StpbtrV9bIknv6ZA807aQDAT45OmpO9iJGsxc</td>\n",
              "      <td>Kizuro</td>\n",
              "      <td>eun1</td>\n",
              "      <td>CHALLENGER</td>\n",
              "      <td>153</td>\n",
              "      <td>108</td>\n",
              "      <td>0ef324f6-1ba0-3357-829e-4793b7be8601</td>\n",
              "      <td>Renekton's Maulers</td>\n",
              "      <td>728</td>\n",
              "    </tr>\n",
              "    <tr>\n",
              "      <th>2</th>\n",
              "      <td>JLSQdP8n1I2BjP-m1SjV9u2rCQ3Aii9OSKAif0v9RmEQ5_c</td>\n",
              "      <td>Mezram</td>\n",
              "      <td>eun1</td>\n",
              "      <td>CHALLENGER</td>\n",
              "      <td>228</td>\n",
              "      <td>133</td>\n",
              "      <td>0ef324f6-1ba0-3357-829e-4793b7be8601</td>\n",
              "      <td>Renekton's Maulers</td>\n",
              "      <td>553</td>\n",
              "    </tr>\n",
              "    <tr>\n",
              "      <th>3</th>\n",
              "      <td>VJhQYtSWX-xO60S9OFNJwl30hPog66s2cSLvnNNi3xbJ6ng</td>\n",
              "      <td>F1ko</td>\n",
              "      <td>eun1</td>\n",
              "      <td>CHALLENGER</td>\n",
              "      <td>135</td>\n",
              "      <td>101</td>\n",
              "      <td>0ef324f6-1ba0-3357-829e-4793b7be8601</td>\n",
              "      <td>Renekton's Maulers</td>\n",
              "      <td>532</td>\n",
              "    </tr>\n",
              "    <tr>\n",
              "      <th>4</th>\n",
              "      <td>sNOhR8ivResBD5KLOopFZCwyjHXkYycLOdiqKxewSC9MaGU</td>\n",
              "      <td>Anshej</td>\n",
              "      <td>eun1</td>\n",
              "      <td>CHALLENGER</td>\n",
              "      <td>481</td>\n",
              "      <td>443</td>\n",
              "      <td>0ef324f6-1ba0-3357-829e-4793b7be8601</td>\n",
              "      <td>Renekton's Maulers</td>\n",
              "      <td>622</td>\n",
              "    </tr>\n",
              "  </tbody>\n",
              "</table>\n",
              "</div>"
            ],
            "text/plain": [
              "                                        summonerId  ... leaguePoints\n",
              "0  l-3F5SK60iy8xRpZhJ1lT7d7EfZKodz-6iU1DRkbIwSPl3U  ...          791\n",
              "1  OSB7m-MIa4StpbtrV9bIknv6ZA807aQDAT45OmpO9iJGsxc  ...          728\n",
              "2  JLSQdP8n1I2BjP-m1SjV9u2rCQ3Aii9OSKAif0v9RmEQ5_c  ...          553\n",
              "3  VJhQYtSWX-xO60S9OFNJwl30hPog66s2cSLvnNNi3xbJ6ng  ...          532\n",
              "4  sNOhR8ivResBD5KLOopFZCwyjHXkYycLOdiqKxewSC9MaGU  ...          622\n",
              "\n",
              "[5 rows x 9 columns]"
            ]
          },
          "metadata": {
            "tags": []
          },
          "execution_count": 38
        }
      ]
    },
    {
      "cell_type": "code",
      "metadata": {
        "colab": {
          "base_uri": "https://localhost:8080/"
        },
        "id": "xyXfBjbJVT6D",
        "outputId": "27eabd2a-3b80-4302-d831-d29d3f4afb70"
      },
      "source": [
        "#comprobación 1: todos deben ser objects\n",
        "flat_summoners.info()"
      ],
      "execution_count": null,
      "outputs": [
        {
          "output_type": "stream",
          "text": [
            "<class 'pandas.core.frame.DataFrame'>\n",
            "MultiIndex: 19413 entries, (0,) to (19412,)\n",
            "Data columns (total 9 columns):\n",
            " #   Column        Non-Null Count  Dtype \n",
            "---  ------        --------------  ----- \n",
            " 0   summonerId    19413 non-null  object\n",
            " 1   summonerName  19413 non-null  object\n",
            " 2   region        19413 non-null  object\n",
            " 3   tier          19413 non-null  object\n",
            " 4   wins          19413 non-null  object\n",
            " 5   losses        19413 non-null  object\n",
            " 6   leagueId      19413 non-null  object\n",
            " 7   leagueName    19413 non-null  object\n",
            " 8   leaguePoints  19413 non-null  object\n",
            "dtypes: object(9)\n",
            "memory usage: 2.8+ MB\n"
          ],
          "name": "stdout"
        }
      ]
    },
    {
      "cell_type": "code",
      "metadata": {
        "colab": {
          "base_uri": "https://localhost:8080/"
        },
        "id": "i1JggCZjVbau",
        "outputId": "c7a1209c-da0c-48ee-f284-a05806eb6ff9"
      },
      "source": [
        "#comprobación 2: deben estar las 8 regiones\n",
        "flat_summoners['region'].unique()"
      ],
      "execution_count": null,
      "outputs": [
        {
          "output_type": "execute_result",
          "data": {
            "text/plain": [
              "array(['eun1', 'kr', 'na1', 'br1', 'la1', 'la2', 'euw1', 'jp1'],\n",
              "      dtype=object)"
            ]
          },
          "metadata": {
            "tags": []
          },
          "execution_count": 40
        }
      ]
    },
    {
      "cell_type": "code",
      "metadata": {
        "colab": {
          "base_uri": "https://localhost:8080/"
        },
        "id": "1WAJFQuSVhWz",
        "outputId": "e55daeac-a504-4d77-d4ad-4a8e0c442849"
      },
      "source": [
        "#comprobación 3: deben estar los 3 tier\n",
        "flat_summoners['tier'].unique()"
      ],
      "execution_count": null,
      "outputs": [
        {
          "output_type": "execute_result",
          "data": {
            "text/plain": [
              "array(['CHALLENGER', 'GRANDMASTER', 'MASTER'], dtype=object)"
            ]
          },
          "metadata": {
            "tags": []
          },
          "execution_count": 41
        }
      ]
    },
    {
      "cell_type": "code",
      "metadata": {
        "id": "jXH6sWZWVsAa"
      },
      "source": [
        "#vamos a guardar el primer df, es importante que el nombre termine con .csv\n",
        "name_csv = 'summoners_8_regions.csv'\n",
        "\n",
        "summoners_df = convert_csv(flat_summoners,name_csv)"
      ],
      "execution_count": null,
      "outputs": []
    },
    {
      "cell_type": "markdown",
      "metadata": {
        "id": "uQqYDdlgWfn_"
      },
      "source": [
        "## Summoners con sus respectivos champions"
      ]
    },
    {
      "cell_type": "code",
      "metadata": {
        "id": "NrWJ_JFQV3S2"
      },
      "source": [
        "#ESTA FUNCION SE TARDA MUCHO!!!! PERO ES NECESARIA\n",
        "#tiempo que se tarda con las 8 regiones, y los 3 tiers y los 152 champions (tiempo con 3648 combinaciones)\n",
        "start = time.time()\n",
        "\n",
        "#mando llamar a mi función championAndSummoner, va a usar el apikey para conectar con la api de riot games y mi df anterior\n",
        "#esta función me va a crear un df con todos los summoners de mis 8 regiones, 3 tiers y sus posibles elecciones de los 152 champions\n",
        "champions_summoner = championAndSummoner(api,flat_summoners)\n",
        "\n",
        "#tiempo = 33964 segundos = 9 horas 43 minutos\n",
        "end = time.time()\n",
        "print (end - start)"
      ],
      "execution_count": null,
      "outputs": []
    },
    {
      "cell_type": "code",
      "metadata": {
        "id": "f7JuZZfGXVLw"
      },
      "source": [
        "champions_summoner"
      ],
      "execution_count": null,
      "outputs": []
    },
    {
      "cell_type": "code",
      "metadata": {
        "id": "bf5d1T_ymarV"
      },
      "source": [
        "#mando llamar la función change_index para cambiar los index de mi df\n",
        "champions_summoner = change_index(champions_summoner)\n",
        "champions_summoner"
      ],
      "execution_count": null,
      "outputs": []
    },
    {
      "cell_type": "code",
      "metadata": {
        "id": "qCfnpwnJwzRg"
      },
      "source": [
        "#corroboro que championId sea object\n",
        "champions_summoner.info()"
      ],
      "execution_count": null,
      "outputs": []
    },
    {
      "cell_type": "code",
      "metadata": {
        "id": "BoLQpu9BysNf"
      },
      "source": [
        "#I need to change the values of the column \"championId\" from float64 to str\n",
        "champions_summoner['championId'] = champions_summoner['championId'].astype('str')"
      ],
      "execution_count": null,
      "outputs": []
    },
    {
      "cell_type": "code",
      "metadata": {
        "id": "IivW-Vbjyzyq"
      },
      "source": [
        "#compruebo\n",
        "champions_summoner.info()"
      ],
      "execution_count": null,
      "outputs": []
    },
    {
      "cell_type": "code",
      "metadata": {
        "id": "eNVvQxFYy5ob"
      },
      "source": [
        "#vamos a guardar el segundo df\n",
        "name_csv = 'champs_summoners.csv'\n",
        "\n",
        "champions_summoner_df = convert_csv(champions_summoner_df,name_csv)"
      ],
      "execution_count": null,
      "outputs": []
    },
    {
      "cell_type": "code",
      "metadata": {
        "id": "VjG159HHzrP8"
      },
      "source": [
        "#a este codigo le falta la parte de los champions\n",
        "#ese codigo esta en el archivo de crear csv Lol"
      ],
      "execution_count": null,
      "outputs": []
    }
  ]
}